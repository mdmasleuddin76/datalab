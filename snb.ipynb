{
 "cells": [
  {
   "cell_type": "code",
   "execution_count": 6,
   "id": "d690b1ef-ec2a-4e98-b547-a86592d64137",
   "metadata": {},
   "outputs": [],
   "source": [
    "def snb(data,point):\n",
    "    m=len(data);\n",
    "    n=len(data[0])-1;\n",
    "    countyes=0;\n",
    "    countno=0\n",
    "    for i in range(m):\n",
    "        if(data[i][n]=='Yes'):\n",
    "            countyes=countyes+1;\n",
    "        else:\n",
    "            countno=countno+1;\n",
    "    pyes=countyes/(countyes+countno);\n",
    "    pno=countno/(countno+countyes);\n",
    "    for i in range(n):\n",
    "        given=point[i];\n",
    "        countnoinside=0;\n",
    "        countyesinside=0;\n",
    "        for j in range(m):\n",
    "             if(given==data[j][i]):\n",
    "                 if(data[j][n]==\"Yes\"):\n",
    "                     countyesinside=countyesinside+1;\n",
    "                 else:\n",
    "                     countnoinside=countnoinside+1;\n",
    "\n",
    "        pyes=pyes*(countyesinside/countyes);\n",
    "        pno=pno*(countnoinside/countno);\n",
    "    if(pyes<pno):\n",
    "        return \"No\"\n",
    "    return \"Yes\""
   ]
  },
  {
   "cell_type": "code",
   "execution_count": 8,
   "id": "71cc3cdf-b6ec-41e2-9e68-3438125808f5",
   "metadata": {},
   "outputs": [],
   "source": [
    "def main():\n",
    "    data = [\n",
    "    ['High', 'Graduate', 'Single', 'Good', 'Yes'],\n",
    "    ['Low', 'Graduate', 'Married', 'Poor', 'No'],\n",
    "    ['Medium', 'Not Graduate', 'Single', 'Good', 'Yes'],\n",
    "    ['Medium', 'Graduate', 'Married', 'Poor', 'No'],\n",
    "    ['Low', 'Not Graduate', 'Single', 'Good', 'No'],\n",
    "    ['High', 'Graduate', 'Married', 'Good', 'Yes'],\n",
    "    ['Low', 'Graduate', 'Single', 'Poor', 'No'],\n",
    "    ['Medium', 'Not Graduate', 'Married', 'Good', 'Yes'],\n",
    "    ['High', 'Not Graduate', 'Married', 'Poor', 'No'],\n",
    "    ['Low', 'Graduate', 'Single', 'Poor', 'No'],\n",
    "    ['High', 'Graduate', 'Single', 'Good', 'Yes'],\n",
    "    ['Medium', 'Graduate', 'Married', 'Poor', 'No'],\n",
    "    ['Medium', 'Graduate', 'Single', 'Good', 'Yes'],\n",
    "    ['Low', 'Not Graduate', 'Married', 'Poor', 'No'],\n",
    "     # Use None for missing values\n",
    "]\n",
    "    test_results = [\n",
    "        ['High', 'Graduate', 'Single', 'Good', 'Yes'],\n",
    "        ['Low', 'Not Graduate', 'Married', 'Poor', 'No'],\n",
    "        ['Medium', 'Graduate', 'Single', 'Good', 'Yes'],\n",
    "        ['Medium', 'Not Graduate', 'Married', 'Good', 'Yes'],\n",
    "        ['High', 'Graduate', 'Single', 'Poor', 'No'],\n",
    "        ['Low', 'Graduate', 'Married', 'Good', 'No'],\n",
    "        ['Medium', 'Not Graduate', 'Single', 'Poor', 'No'],\n",
    "        ['High', 'Graduate', 'Married', 'Poor', 'No'],\n",
    "        ['Low', 'Not Graduate', 'Single', 'Good', 'No'],\n",
    "        ['Medium', 'Graduate', 'Married', 'Good', 'Yes'],\n",
    "    ]\n",
    "\n",
    "    for i in range(10): \n",
    "        # point=['High', 'Graduate', 'Married', 'Good', None] \n",
    "        print(\"Classified into: \" ,snb(data,test_results[i]));\n",
    "\n",
    "# if _name_ == \"_main_\":"
   ]
  },
  {
   "cell_type": "code",
   "execution_count": 10,
   "id": "4c244530-dfbe-455e-a34a-3af5e5ceb451",
   "metadata": {},
   "outputs": [
    {
     "name": "stdout",
     "output_type": "stream",
     "text": [
      "Classified into:  Yes\n",
      "Classified into:  No\n",
      "Classified into:  Yes\n",
      "Classified into:  Yes\n",
      "Classified into:  No\n",
      "Classified into:  No\n",
      "Classified into:  No\n",
      "Classified into:  No\n",
      "Classified into:  No\n",
      "Classified into:  Yes\n"
     ]
    }
   ],
   "source": [
    "main()"
   ]
  },
  {
   "cell_type": "code",
   "execution_count": null,
   "id": "8d832f41-6772-49fe-89cd-76f4e8f44dd9",
   "metadata": {},
   "outputs": [],
   "source": []
  }
 ],
 "metadata": {
  "kernelspec": {
   "display_name": "Python 3 (ipykernel)",
   "language": "python",
   "name": "python3"
  },
  "language_info": {
   "codemirror_mode": {
    "name": "ipython",
    "version": 3
   },
   "file_extension": ".py",
   "mimetype": "text/x-python",
   "name": "python",
   "nbconvert_exporter": "python",
   "pygments_lexer": "ipython3",
   "version": "3.12.7"
  }
 },
 "nbformat": 4,
 "nbformat_minor": 5
}
