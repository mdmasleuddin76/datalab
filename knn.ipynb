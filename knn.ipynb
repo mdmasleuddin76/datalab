{
 "cells": [
  {
   "cell_type": "code",
   "execution_count": 8,
   "id": "57ab3557-4cb7-45b1-8b4d-9549acefe3b3",
   "metadata": {},
   "outputs": [],
   "source": [
    "import math\n"
   ]
  },
  {
   "cell_type": "code",
   "execution_count": 10,
   "id": "a9837ab5-5bdd-4248-a477-11da3a4075b2",
   "metadata": {},
   "outputs": [],
   "source": [
    "def distance(points,given_points,k):\n",
    "    distance=[];\n",
    "    for group in given_points:\n",
    "        print(group)\n",
    "        for gpoint in given_points[group]:\n",
    "            dist = math.sqrt((gpoint[0]-points[0])**2 +(gpoint[1]-points[1])**2);\n",
    "            distance.append((dist,group));\n",
    "    distance.sort();\n",
    "    \n",
    "    npoints=distance[:k];\n",
    "    gcounts=[0]*len(given_points);\n",
    "    for np in npoints:\n",
    "        gcounts[np[1]]=gcounts[np[1]]+1;\n",
    "    maxgroup=-1;\n",
    "    maxcount=0;\n",
    "    for i in range(len(gcounts)):\n",
    "        if(maxcount<gcounts[i]):\n",
    "            maxgroup=i;\n",
    "            maxcount=gcounts[i];\n",
    "    return maxgroup;\n"
   ]
  },
  {
   "cell_type": "code",
   "execution_count": null,
   "id": "b87c9113-d054-4d3f-99c3-00b507dbec30",
   "metadata": {},
   "outputs": [],
   "source": []
  },
  {
   "cell_type": "code",
   "execution_count": 13,
   "id": "273093ad-b3e4-4e32-a4f9-7660b3e6bb6a",
   "metadata": {},
   "outputs": [],
   "source": [
    "def main():\n",
    "        points = {\n",
    "            0: [(1, 12), (2, 5), (3, 6), (3, 10), (3.5, 8), (2, 11), (2, 9), (1, 7)],\n",
    "            1: [(5, 3), (3, 2), (1.5, 9), (7, 2), (6, 1), (3.8, 1), (5.6, 4), (4, 2), (2, 5)],\n",
    "            2: [(8, 9), (7, 8), (9, 6), (10, 10), (8, 6), (9, 7), (10, 9)]\n",
    "        }\n",
    "        \n",
    "        # Test point to classify\n",
    "        p = (7, 2)\n",
    "        \n",
    "        # Number of neighbors to consider\n",
    "        k = 3\n",
    "        \n",
    "        # Call the classifier and print the result\n",
    "        print(\"The value classified to the unknown point is:\", distance(p,points, k))\n",
    "\n",
    "# Execute the program\n",
    "# if _name_ == \"_main_\":\n",
    "    # main()"
   ]
  },
  {
   "cell_type": "code",
   "execution_count": 15,
   "id": "6bdf196b-dab4-4b7f-b804-72b8e34e859e",
   "metadata": {},
   "outputs": [
    {
     "name": "stdout",
     "output_type": "stream",
     "text": [
      "0\n",
      "1\n",
      "2\n",
      "The value classified to the unknown point is: 1\n"
     ]
    }
   ],
   "source": [
    "main()"
   ]
  },
  {
   "cell_type": "code",
   "execution_count": null,
   "id": "7baa462b-3767-4241-ac62-4800d19400b8",
   "metadata": {},
   "outputs": [],
   "source": []
  }
 ],
 "metadata": {
  "kernelspec": {
   "display_name": "Python 3 (ipykernel)",
   "language": "python",
   "name": "python3"
  },
  "language_info": {
   "codemirror_mode": {
    "name": "ipython",
    "version": 3
   },
   "file_extension": ".py",
   "mimetype": "text/x-python",
   "name": "python",
   "nbconvert_exporter": "python",
   "pygments_lexer": "ipython3",
   "version": "3.12.7"
  }
 },
 "nbformat": 4,
 "nbformat_minor": 5
}
