{
 "cells": [
  {
   "cell_type": "code",
   "execution_count": 138,
   "id": "faebba0e-3afb-4700-a85a-0665d9056794",
   "metadata": {},
   "outputs": [],
   "source": [
    "import itertools"
   ]
  },
  {
   "cell_type": "code",
   "execution_count": 140,
   "id": "78c5de55-8c89-4170-aab5-526507bf93c7",
   "metadata": {},
   "outputs": [],
   "source": [
    "def uniqueitemset(transactions):\n",
    "    itemset=set();\n",
    "    for tr in transactions:\n",
    "        itemset.update(tr);\n",
    "    return itemset"
   ]
  },
  {
   "cell_type": "code",
   "execution_count": 142,
   "id": "348cec57-7a90-4836-be9b-fc5c18174730",
   "metadata": {},
   "outputs": [],
   "source": [
    "def generateall(itemset):\n",
    "    subsets=[]\n",
    "    for i in range(len(itemset)):\n",
    "        s=itertools.combinations(itemset,i+1);\n",
    "        subsets.extend(s);\n",
    "    return subsets"
   ]
  },
  {
   "cell_type": "code",
   "execution_count": 144,
   "id": "7ab2253d-2c22-494d-b035-8981355448c0",
   "metadata": {},
   "outputs": [],
   "source": [
    "def frequent(item,transaction):\n",
    "    count=0;\n",
    "    item=set(item)\n",
    "    for i in range(len(transaction)):\n",
    "        xyz=set(transaction[i]);\n",
    "        if(item.issubset(xyz)):\n",
    "            count=count+1;\n",
    "    return count;"
   ]
  },
  {
   "cell_type": "code",
   "execution_count": 151,
   "id": "8f3f95a1-933e-4234-ab77-41e40c420512",
   "metadata": {},
   "outputs": [],
   "source": [
    "def main():\n",
    "    transactions=[['A', 'B', 'C'],\n",
    "    ['A', 'C'],\n",
    "    ['A', 'D'],\n",
    "    ['B', 'C', 'E'],\n",
    "    ['A', 'B', 'C', 'E']];\n",
    "    itemset= uniqueitemset(transactions)\n",
    "    print(itemset)\n",
    "    minsupport=0.2\n",
    "    x=sorted(itemset)\n",
    "    x=generateall(x)\n",
    "    print(x)\n",
    "    for i in range(len(x)):\n",
    "        c=frequent(x[i],transactions);\n",
    "        if(c/len(transactions)>minsupport):\n",
    "            print(x[i], \" : \",c/(len(transactions)));        \n",
    "# if _name==\"main_\":"
   ]
  },
  {
   "cell_type": "code",
   "execution_count": 153,
   "id": "dd5ca315-6bc7-4490-a7ac-31956d5b4075",
   "metadata": {},
   "outputs": [
    {
     "name": "stdout",
     "output_type": "stream",
     "text": [
      "{'D', 'B', 'E', 'A', 'C'}\n",
      "[('A',), ('B',), ('C',), ('D',), ('E',), ('A', 'B'), ('A', 'C'), ('A', 'D'), ('A', 'E'), ('B', 'C'), ('B', 'D'), ('B', 'E'), ('C', 'D'), ('C', 'E'), ('D', 'E'), ('A', 'B', 'C'), ('A', 'B', 'D'), ('A', 'B', 'E'), ('A', 'C', 'D'), ('A', 'C', 'E'), ('A', 'D', 'E'), ('B', 'C', 'D'), ('B', 'C', 'E'), ('B', 'D', 'E'), ('C', 'D', 'E'), ('A', 'B', 'C', 'D'), ('A', 'B', 'C', 'E'), ('A', 'B', 'D', 'E'), ('A', 'C', 'D', 'E'), ('B', 'C', 'D', 'E'), ('A', 'B', 'C', 'D', 'E')]\n",
      "('A',)  :  0.8\n",
      "('B',)  :  0.6\n",
      "('C',)  :  0.8\n",
      "('E',)  :  0.4\n",
      "('A', 'B')  :  0.4\n",
      "('A', 'C')  :  0.6\n",
      "('B', 'C')  :  0.6\n",
      "('B', 'E')  :  0.4\n",
      "('C', 'E')  :  0.4\n",
      "('A', 'B', 'C')  :  0.4\n",
      "('B', 'C', 'E')  :  0.4\n"
     ]
    }
   ],
   "source": [
    "    main()"
   ]
  },
  {
   "cell_type": "code",
   "execution_count": null,
   "id": "45617ec9-14c2-4c04-89d0-2737d29b403b",
   "metadata": {},
   "outputs": [],
   "source": []
  }
 ],
 "metadata": {
  "kernelspec": {
   "display_name": "Python 3 (ipykernel)",
   "language": "python",
   "name": "python3"
  },
  "language_info": {
   "codemirror_mode": {
    "name": "ipython",
    "version": 3
   },
   "file_extension": ".py",
   "mimetype": "text/x-python",
   "name": "python",
   "nbconvert_exporter": "python",
   "pygments_lexer": "ipython3",
   "version": "3.12.7"
  }
 },
 "nbformat": 4,
 "nbformat_minor": 5
}
