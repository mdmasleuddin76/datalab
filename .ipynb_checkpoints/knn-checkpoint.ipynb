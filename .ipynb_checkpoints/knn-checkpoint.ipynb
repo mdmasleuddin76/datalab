{
 "cells": [
  {
   "cell_type": "code",
   "execution_count": 53,
   "id": "57ab3557-4cb7-45b1-8b4d-9549acefe3b3",
   "metadata": {},
   "outputs": [],
   "source": [
    "import math\n"
   ]
  },
  {
   "cell_type": "code",
   "execution_count": 55,
   "id": "a9837ab5-5bdd-4248-a477-11da3a4075b2",
   "metadata": {},
   "outputs": [],
   "source": [
    "def distance(points,given_points,k):\n",
    "    distance=[];\n",
    "    for group in given_points:\n",
    "        print(group)\n",
    "        for gpoint in given_points[group]:\n",
    "            dist = math.sqrt((gpoint[0]-points[0])**2 +(gpoint[1]-points[1])**2);\n",
    "            distance.append((dist,group));\n",
    "    distance.sort();\n",
    "    \n",
    "    npoints=distance[:k];\n",
    "    gcounts=[0]*len(given_points);\n",
    "    for np in npoints:\n",
    "        gcounts[np[1]]=gcounts[np[1]]+1;\n",
    "    maxgroup=-1;\n",
    "    maxcount=0;\n",
    "    for i in range(len(gcounts)):\n",
    "        if(maxcount<gcounts[i]):\n",
    "            maxgroup=i;\n",
    "            maxcount=gcounts[i];\n",
    "    return maxgroup;\n"
   ]
  },
  {
   "cell_type": "code",
   "execution_count": null,
   "id": "b87c9113-d054-4d3f-99c3-00b507dbec30",
   "metadata": {},
   "outputs": [],
   "source": []
  },
  {
   "cell_type": "code",
   "execution_count": 58,
   "id": "273093ad-b3e4-4e32-a4f9-7660b3e6bb6a",
   "metadata": {},
   "outputs": [],
   "source": [
    "def main():\n",
    "        points = {\n",
    "            0: [(1, 12), (2, 5), (3, 6), (3, 10), (3.5, 8), (2, 11), (2, 9), (1, 7)],\n",
    "            1: [(5, 3), (3, 2), (1.5, 9), (7, 2), (6, 1), (3.8, 1), (5.6, 4), (4, 2), (2, 5)],\n",
    "            2: [(8, 9), (7, 8), (9, 6), (10, 10), (8, 6), (9, 7), (10, 9)]\n",
    "        }\n",
    "        \n",
    "        # Test point to classify\n",
    "        p = (7, 2)\n",
    "        \n",
    "        # Number of neighbors to consider\n",
    "        k = 3\n",
    "        \n",
    "        # Call the classifier and print the result\n",
    "        print(\"The value classified to the unknown point is:\", distance(p,points, k))\n",
    "\n",
    "# Execute the program\n",
    "# if _name_ == \"_main_\":\n",
    "    # main()"
   ]
  },
  {
   "cell_type": "code",
   "execution_count": 60,
   "id": "6bdf196b-dab4-4b7f-b804-72b8e34e859e",
   "metadata": {},
   "outputs": [
    {
     "name": "stdout",
     "output_type": "stream",
     "text": [
      "0\n"
     ]
    },
    {
     "ename": "ValueError",
     "evalue": "math domain error",
     "output_type": "error",
     "traceback": [
      "\u001b[1;31m---------------------------------------------------------------------------\u001b[0m",
      "\u001b[1;31mValueError\u001b[0m                                Traceback (most recent call last)",
      "Cell \u001b[1;32mIn[60], line 1\u001b[0m\n\u001b[1;32m----> 1\u001b[0m main()\n",
      "Cell \u001b[1;32mIn[58], line 15\u001b[0m, in \u001b[0;36mmain\u001b[1;34m()\u001b[0m\n\u001b[0;32m     12\u001b[0m k \u001b[38;5;241m=\u001b[39m \u001b[38;5;241m3\u001b[39m\n\u001b[0;32m     14\u001b[0m \u001b[38;5;66;03m# Call the classifier and print the result\u001b[39;00m\n\u001b[1;32m---> 15\u001b[0m \u001b[38;5;28mprint\u001b[39m(\u001b[38;5;124m\"\u001b[39m\u001b[38;5;124mThe value classified to the unknown point is:\u001b[39m\u001b[38;5;124m\"\u001b[39m, distance(p,points, k))\n",
      "Cell \u001b[1;32mIn[55], line 6\u001b[0m, in \u001b[0;36mdistance\u001b[1;34m(points, given_points, k)\u001b[0m\n\u001b[0;32m      4\u001b[0m     \u001b[38;5;28mprint\u001b[39m(group)\n\u001b[0;32m      5\u001b[0m     \u001b[38;5;28;01mfor\u001b[39;00m gpoint \u001b[38;5;129;01min\u001b[39;00m given_points[group]:\n\u001b[1;32m----> 6\u001b[0m         dist \u001b[38;5;241m=\u001b[39m math\u001b[38;5;241m.\u001b[39msqrt((gpoint[\u001b[38;5;241m0\u001b[39m]\u001b[38;5;241m-\u001b[39mpoints[\u001b[38;5;241m0\u001b[39m])\u001b[38;5;241m*\u001b[39m\u001b[38;5;241m2\u001b[39m \u001b[38;5;241m+\u001b[39m(gpoint[\u001b[38;5;241m1\u001b[39m]\u001b[38;5;241m-\u001b[39mpoints[\u001b[38;5;241m1\u001b[39m])\u001b[38;5;241m*\u001b[39m\u001b[38;5;241m2\u001b[39m);\n\u001b[0;32m      7\u001b[0m         distance\u001b[38;5;241m.\u001b[39mappend((dist,group));\n\u001b[0;32m      8\u001b[0m distance\u001b[38;5;241m.\u001b[39msort();\n",
      "\u001b[1;31mValueError\u001b[0m: math domain error"
     ]
    }
   ],
   "source": [
    "main()"
   ]
  },
  {
   "cell_type": "code",
   "execution_count": null,
   "id": "7baa462b-3767-4241-ac62-4800d19400b8",
   "metadata": {},
   "outputs": [],
   "source": []
  }
 ],
 "metadata": {
  "kernelspec": {
   "display_name": "Python 3 (ipykernel)",
   "language": "python",
   "name": "python3"
  },
  "language_info": {
   "codemirror_mode": {
    "name": "ipython",
    "version": 3
   },
   "file_extension": ".py",
   "mimetype": "text/x-python",
   "name": "python",
   "nbconvert_exporter": "python",
   "pygments_lexer": "ipython3",
   "version": "3.12.7"
  }
 },
 "nbformat": 4,
 "nbformat_minor": 5
}
